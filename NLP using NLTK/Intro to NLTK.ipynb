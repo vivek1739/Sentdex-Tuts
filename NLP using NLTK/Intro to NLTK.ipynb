{
 "cells": [
  {
   "cell_type": "code",
   "execution_count": 1,
   "metadata": {
    "collapsed": true
   },
   "outputs": [],
   "source": [
    "import nltk\n",
    "# nltk.download(\"all\")"
   ]
  },
  {
   "cell_type": "markdown",
   "metadata": {
    "collapsed": true
   },
   "source": [
    "### 1. Tokenizer\n",
    "- word tokenizer\n",
    "- sentence tokenizer\n",
    "\n",
    "**Lexicon and corporas**\n",
    "    - corpora : body of text . ex\n",
    "        - medical journals, predential speeches, English language\n",
    "    - Lexicon : words and their meanings\n",
    "        - ex. inverstor language 'bull' : someone who is +ve about the market\n",
    "            - english bull : scary animal\n",
    "        - for numbers it is words and their values\n"
   ]
  },
  {
   "cell_type": "code",
   "execution_count": 2,
   "metadata": {},
   "outputs": [
    {
     "name": "stdout",
     "output_type": "stream",
     "text": [
      "['Hello there, how are you doing today?', 'the weather is great and python is awesome.', 'The sky is blue.']\n",
      "----------------------------------------\n",
      "['Hello Mr. Smith, how are you doing today?', 'the weather is great and python is awesome.', 'The sky is blue.']\n"
     ]
    }
   ],
   "source": [
    "from nltk.tokenize import word_tokenize,sent_tokenize\n",
    "\n",
    "# By sentence --------------------------\n",
    "\n",
    "example_text = \"Hello there, how are you doing today? the weather is great and python is awesome. The sky is blue.\"\n",
    "# for split by sentence, we can think that full stop followed by space will do\n",
    "# we cannot split by sentense easily ex. Mr. Smith\n",
    "\n",
    "print(sent_tokenize(example_text))\n",
    "\n",
    "print(\"--\"*20)\n",
    "example_text = \"Hello Mr. Smith, how are you doing today? the weather is great and python is awesome. The sky is blue.\"\n",
    "print(sent_tokenize(example_text))"
   ]
  },
  {
   "cell_type": "code",
   "execution_count": 3,
   "metadata": {},
   "outputs": [
    {
     "name": "stdout",
     "output_type": "stream",
     "text": [
      "['Hello', 'Mr.', 'Smith', ',', 'how', 'are', 'you', 'doing', 'today', '?', 'the', 'weather', 'is', 'great', 'and', 'python', 'is', 'awesome', '.', 'The', 'sky', 'is', 'blue', '.']\n"
     ]
    }
   ],
   "source": [
    "# By word -------------------\n",
    "print(word_tokenize(example_text))\n",
    "# by default puntuation is taken as a word."
   ]
  },
  {
   "cell_type": "code",
   "execution_count": 4,
   "metadata": {},
   "outputs": [
    {
     "name": "stdout",
     "output_type": "stream",
     "text": [
      "Hello\n",
      "Mr.\n",
      "Smith\n",
      ",\n",
      "how\n",
      "are\n",
      "you\n",
      "doing\n",
      "today\n",
      "?\n",
      "the\n",
      "weather\n",
      "is\n",
      "great\n",
      "and\n",
      "python\n",
      "is\n",
      "awesome\n",
      ".\n",
      "The\n",
      "sky\n",
      "is\n",
      "blue\n",
      ".\n"
     ]
    }
   ],
   "source": [
    "for i in word_tokenize(example_text):\n",
    "    print(i)"
   ]
  },
  {
   "cell_type": "markdown",
   "metadata": {},
   "source": [
    "- there are advanced tokenizers where we can use unsupervised machine learning built in nltk.\n",
    "- nltk by default works with english, but also works with other languages.\n",
    "\n",
    "### 2. Stop words\n",
    "a. words that do not add much meaning\n",
    "b. whose meaning is ambigous"
   ]
  },
  {
   "cell_type": "code",
   "execution_count": 5,
   "metadata": {},
   "outputs": [
    {
     "name": "stdout",
     "output_type": "stream",
     "text": [
      "{'her', 'are', 've', 'hers', 'by', 'yours', 'him', 'then', 'those', 'the', 'more', 'when', 'if', 'so', \"you'd\", \"haven't\", 'below', 'same', 'aren', 'our', 'that', 'against', \"doesn't\", \"she's\", 'this', 'been', 'there', \"you've\", 'my', 'am', 'than', 'myself', 'few', 'y', 'did', 'of', 'who', 'while', 'through', 'd', 'himself', \"isn't\", \"you'll\", 'hadn', 'hasn', 'once', 'mustn', 'nor', 'won', 'it', 'have', 'having', \"shan't\", 'not', 'isn', 'here', 'as', 'were', \"you're\", 'all', 'yourself', 'only', 'to', 'because', 'on', 'itself', 'its', 'haven', 'themselves', 'doesn', 'herself', 'do', 'up', 'how', 'didn', 'i', 'own', 'down', 'most', 'other', 'being', 'you', 'at', \"don't\", 'why', 'theirs', 'which', 'and', 'ain', 'wouldn', 'o', 'can', \"couldn't\", \"that'll\", 'each', 'some', 'm', \"it's\", 'a', 'in', 'about', 'before', 'for', \"mightn't\", 'both', 'until', 'whom', 'we', 'with', 'ma', 's', \"hadn't\", \"should've\", 'what', 'out', 'such', \"mustn't\", 'does', \"didn't\", 'he', 'be', 'under', \"hasn't\", 'just', 'doing', 'they', \"shouldn't\", 'ours', 'don', 'had', 'she', 'no', 'very', 't', \"needn't\", 'your', 'me', 'above', 'shan', \"won't\", 'shouldn', 'ourselves', 'but', 'or', 'again', 'where', 'couldn', \"wouldn't\", 'them', 'll', 're', 'is', 'between', 'off', 'will', \"aren't\", 'during', 'after', 'has', 'their', 'over', 'now', \"wasn't\", 'into', 'from', 'too', 'yourselves', 'was', \"weren't\", 'any', 'needn', 'should', 'an', 'these', 'weren', 'his', 'wasn', 'mightn', 'further'}\n"
     ]
    }
   ],
   "source": [
    "from nltk.corpus import stopwords\n",
    "\n",
    "example_sent = \"This is an example showing off stop word filtration.\"\n",
    "stop_words = set(stopwords.words(\"english\"))\n",
    "print(stop_words)"
   ]
  },
  {
   "cell_type": "code",
   "execution_count": 6,
   "metadata": {
    "collapsed": true
   },
   "outputs": [],
   "source": [
    "words = word_tokenize(example_sent)\n",
    "filtered_sent = [w.lower() for w in words if w.lower() not in stop_words]"
   ]
  },
  {
   "cell_type": "code",
   "execution_count": 7,
   "metadata": {},
   "outputs": [
    {
     "data": {
      "text/plain": [
       "['example', 'showing', 'stop', 'word', 'filtration', '.']"
      ]
     },
     "execution_count": 7,
     "metadata": {},
     "output_type": "execute_result"
    }
   ],
   "source": [
    "filtered_sent"
   ]
  },
  {
   "cell_type": "markdown",
   "metadata": {},
   "source": [
    "### 3. Stemming\n",
    "- we stem a word \n",
    "    - ex. riding becomes rid\n",
    "    - ie. we have different variations of a word but meaning of word is unchanged\n",
    "    - ex. I was taking a ride in the car\n",
    "        - I was riding a car.\n",
    "\n",
    "Porter Stemmer :\n",
    "- since 1979\n",
    "- there are many stemmers, Porter stemmer is gud but rule based : one of the most gentle stemmers\n",
    "- Snowball stemmer is Porter2, developed to support other languages : slightly better than 1st\n",
    "- Lancaster Stemmer is very aggressive, sometimes the words get two small that barely readable by humans. \n",
    "    - It is good when we are having large datasets\n",
    "    "
   ]
  },
  {
   "cell_type": "code",
   "execution_count": 8,
   "metadata": {},
   "outputs": [
    {
     "name": "stdout",
     "output_type": "stream",
     "text": [
      "python\n",
      "python\n",
      "python\n",
      "python\n",
      "pythonli\n",
      "pythoni\n",
      "--------------------\n",
      "python\n",
      "python\n",
      "python\n",
      "python\n",
      "python\n",
      "pythoni\n",
      "--------------------\n",
      "python\n",
      "python\n",
      "python\n",
      "python\n",
      "python\n",
      "pythony\n"
     ]
    }
   ],
   "source": [
    "from nltk.stem import PorterStemmer,LancasterStemmer,SnowballStemmer,WordNetLemmatizer\n",
    "from nltk.tokenize import sent_tokenize,word_tokenize\n",
    "ps = PorterStemmer()\n",
    "sn = SnowballStemmer(language=\"english\")\n",
    "ls = LancasterStemmer()\n",
    "wn = WordNetLemmatizer()\n",
    "\n",
    "example_words = [\"python\",\"pythoner\",\"pythoning\",\"pythoned\",\"pythonly\",\"pythony\"]\n",
    "\n",
    "for w in example_words:\n",
    "    print(ps.stem(w))\n",
    "print(\"-\"*20)\n",
    "for w in example_words:\n",
    "    print(sn.stem(w))\n",
    "print(\"-\"*20)\n",
    "for w in example_words:\n",
    "    print(ls.stem(w))    "
   ]
  },
  {
   "cell_type": "markdown",
   "metadata": {},
   "source": [
    "- except last one all of the words in stemmed"
   ]
  },
  {
   "cell_type": "code",
   "execution_count": 9,
   "metadata": {},
   "outputs": [
    {
     "name": "stdout",
     "output_type": "stream",
     "text": [
      "It----It\n",
      "is----is\n",
      "veri----very\n",
      "import----important\n",
      ",----,\n",
      "to----to\n",
      "be----be\n",
      "pythonli----pythonly\n",
      "while----while\n",
      "you----you\n",
      "are----are\n",
      "python----pythoning\n",
      "with----with\n",
      "pyhton----pyhton\n",
      ".----.\n",
      "all----All\n",
      "python----pythoners\n",
      "have----have\n",
      "python----pythoned\n",
      "onc----once\n",
      ".----.\n"
     ]
    }
   ],
   "source": [
    "new_text = \"It is very important,to be pythonly while you are pythoning with pyhton. All pythoners have pythoned once.\"\n",
    "words = word_tokenize(new_text)\n",
    "for w in words:\n",
    "    print(ps.stem(w)+\"----\"+ wn.lemmatize(w))"
   ]
  },
  {
   "cell_type": "markdown",
   "metadata": {},
   "source": [
    "- Now a days, people prefer wordnet \n",
    "- Wordnet will find the synonym using synset.\n",
    "\n",
    "** Stemming vs lemmatization **\n",
    "- lemmatization looks for meaning, stemming does not \n",
    "    - ex. good is lemma of better\n",
    "    - we need part of speech first as normalization rules are different for diff parts of speech."
   ]
  },
  {
   "cell_type": "markdown",
   "metadata": {},
   "source": [
    "### 4. Part of Speech Tagging\n",
    "- labelling part of speech to each word"
   ]
  },
  {
   "cell_type": "code",
   "execution_count": 10,
   "metadata": {},
   "outputs": [
    {
     "name": "stdout",
     "output_type": "stream",
     "text": [
      "['PRESIDENT', 'GEORGE', 'W.', 'BUSH', \"'S\", 'ADDRESS', 'BEFORE', 'A', 'JOINT', 'SESSION', 'OF', 'THE', 'CONGRESS', 'ON', 'THE', 'STATE', 'OF', 'THE', 'UNION', 'January', '31', ',', '2006', 'THE', 'PRESIDENT', ':', 'Thank', 'you', 'all', '.']\n",
      "----------------------------------------\n",
      "[('PRESIDENT', 'NNP'), ('GEORGE', 'NNP'), ('W.', 'NNP'), ('BUSH', 'NNP'), (\"'S\", 'POS'), ('ADDRESS', 'NNP'), ('BEFORE', 'IN'), ('A', 'NNP'), ('JOINT', 'NNP'), ('SESSION', 'NNP'), ('OF', 'IN'), ('THE', 'NNP'), ('CONGRESS', 'NNP'), ('ON', 'NNP'), ('THE', 'NNP'), ('STATE', 'NNP'), ('OF', 'IN'), ('THE', 'NNP'), ('UNION', 'NNP'), ('January', 'NNP'), ('31', 'CD'), (',', ','), ('2006', 'CD'), ('THE', 'NNP'), ('PRESIDENT', 'NNP'), (':', ':'), ('Thank', 'NNP'), ('you', 'PRP'), ('all', 'DT'), ('.', '.')]\n"
     ]
    }
   ],
   "source": [
    "import nltk\n",
    "from nltk.corpus import state_union\n",
    "from nltk.tokenize import PunktSentenceTokenizer\n",
    "# punktSentenceTokenizer is an unsupervised ML tokenizer\n",
    "# it comes pretrained but we can also retrain\n",
    "\n",
    "train_text = state_union.raw(\"2005-GWBush.txt\")\n",
    "sample_text = state_union.raw(\"2006-GWBush.txt\")\n",
    "\n",
    "# here we are training on train_text\n",
    "custom_sent_tokenizer = PunktSentenceTokenizer(train_text)\n",
    "\n",
    "tokenized = custom_sent_tokenizer.tokenize(sample_text)\n",
    "\n",
    "def process_content():\n",
    "    try:\n",
    "        for sent in tokenized:\n",
    "            words = nltk.word_tokenize(sent)\n",
    "            print(words)\n",
    "            print(\"-\"*40)\n",
    "            tagged = nltk.pos_tag(words)\n",
    "            print(tagged)\n",
    "            break;\n",
    "    \n",
    "    except Exception as e:\n",
    "        print(str(e))\n",
    "\n",
    "process_content()"
   ]
  },
  {
   "cell_type": "markdown",
   "metadata": {},
   "source": [
    "- NNP:  Proper noun, singular\n",
    "- PRP : Personal pronoun\n",
    "- VB : verbs\n",
    "- RB : Adverb\n",
    "\n",
    "- pos tagging will create part of speech tagging of words\n",
    "\n",
    "### 5. Chunking\n",
    "- we did part of speech tags, we can have many nouns in a sentence and we need to find what applies to which noun.\n",
    "- Noun-phrases : noun with a bunch of modifiers around. ( kind of descriptive group of words surrounding noun) \n",
    "    - with regex \n",
    "    - or words that have affect on the noun\n",
    "    \n",
    "- we use part of speech tags and regex to do chunking."
   ]
  },
  {
   "cell_type": "code",
   "execution_count": 13,
   "metadata": {},
   "outputs": [
    {
     "name": "stdout",
     "output_type": "stream",
     "text": [
      "(S\n",
      "  (Chunk PRESIDENT/NNP)\n",
      "  (Chunk GEORGE/NNP)\n",
      "  (Chunk W./NNP)\n",
      "  (Chunk BUSH/NNP)\n",
      "  'S/POS\n",
      "  (Chunk ADDRESS/NNP)\n",
      "  BEFORE/IN\n",
      "  (Chunk A/NNP)\n",
      "  (Chunk JOINT/NNP)\n",
      "  (Chunk SESSION/NNP)\n",
      "  OF/IN\n",
      "  (Chunk THE/NNP)\n",
      "  (Chunk CONGRESS/NNP)\n",
      "  (Chunk ON/NNP)\n",
      "  (Chunk THE/NNP)\n",
      "  (Chunk STATE/NNP)\n",
      "  OF/IN\n",
      "  (Chunk THE/NNP)\n",
      "  (Chunk UNION/NNP)\n",
      "  (Chunk January/NNP)\n",
      "  31/CD\n",
      "  ,/,\n",
      "  2006/CD\n",
      "  (Chunk THE/NNP)\n",
      "  (Chunk PRESIDENT/NNP)\n",
      "  :/:\n",
      "  (Chunk Thank/NNP)\n",
      "  you/PRP\n",
      "  all/DT\n",
      "  ./.)\n"
     ]
    }
   ],
   "source": [
    "from nltk.tokenize import PunktSentenceTokenizer\n",
    "from nltk.corpus import state_union\n",
    "\n",
    "train_text = state_union.raw(\"2005-GWBush.txt\")\n",
    "sample_text = state_union.raw(\"2006-GWBush.txt\")\n",
    "\n",
    "custom_sent_tokenizer = PunktSentenceTokenizer(train_text)\n",
    "\n",
    "tokenized = custom_sent_tokenizer.tokenize(sample_text)\n",
    "from IPython import display\n",
    "\n",
    "def process_content():\n",
    "    try:\n",
    "        for i in tokenized:\n",
    "            words = nltk.word_tokenize(i)\n",
    "            tagged = nltk.pos_tag(words)\n",
    "            chunkGram = r\"\"\"Chunk : {<RB.?>*<VB.?>*<NNP><NN>?} \"\"\"\n",
    "            chunkParser = nltk.RegexpParser(chunkGram)\n",
    "            chunked = chunkParser.parse(tagged)\n",
    "            print(chunked)\n",
    "            chunked.draw()\n",
    "            break;\n",
    "    except:\n",
    "        print(\"\")\n",
    "        \n",
    "process_content()        "
   ]
  },
  {
   "cell_type": "markdown",
   "metadata": {},
   "source": [
    "## REGEX"
   ]
  },
  {
   "cell_type": "code",
   "execution_count": 65,
   "metadata": {
    "collapsed": true
   },
   "outputs": [],
   "source": [
    "text = \"abcd efg hi 12\"\n",
    "import re"
   ]
  },
  {
   "cell_type": "code",
   "execution_count": 75,
   "metadata": {},
   "outputs": [
    {
     "data": {
      "text/plain": [
       "['12']"
      ]
     },
     "execution_count": 75,
     "metadata": {},
     "output_type": "execute_result"
    }
   ],
   "source": [
    "# IDENTIFIERS\n",
    "# \\d = any number\n",
    "# \\D = anything but a number\n",
    "# \\s = space\n",
    "# \\S = anything but a space\n",
    "# \\w = any letter\n",
    "# \\W = anything but a letter\n",
    "# . = any character, except for a new line\n",
    "# \\b = space around whole words\n",
    "obj = re.compile(r\"\\d{1,2}\")\n",
    "re.findall(obj,text)"
   ]
  },
  {
   "cell_type": "code",
   "execution_count": 105,
   "metadata": {},
   "outputs": [
    {
     "data": {
      "text/plain": [
       "['abcd', 'efg', 'hi', '12']"
      ]
     },
     "execution_count": 105,
     "metadata": {},
     "output_type": "execute_result"
    }
   ],
   "source": [
    "### QUANTIFIERS #####\n",
    "# * : zero or more times\n",
    "# ? : Once or none\n",
    "# + : one or more\n",
    "# {3} : three times\n",
    "# {1,2} : 1 to 2 count\n",
    "obj = re.compile(r\"\\w+\")\n",
    "re.findall(obj,text)"
   ]
  },
  {
   "cell_type": "code",
   "execution_count": 100,
   "metadata": {},
   "outputs": [
    {
     "data": {
      "text/plain": [
       "['ab', 'cd', 'ef', 'g', 'hi', '12']"
      ]
     },
     "execution_count": 100,
     "metadata": {},
     "output_type": "execute_result"
    }
   ],
   "source": [
    "obj = re.compile(\"\\w{1,2}\")\n",
    "re.findall(obj,text)"
   ]
  },
  {
   "cell_type": "code",
   "execution_count": 103,
   "metadata": {},
   "outputs": [
    {
     "data": {
      "text/plain": [
       "['a', 'b', 'c', 'd', ' ', 'e', 'f', 'g', ' ', 'h', 'i', ' ', '1', '2']"
      ]
     },
     "execution_count": 103,
     "metadata": {},
     "output_type": "execute_result"
    }
   ],
   "source": [
    "# . : any character except line break\n",
    "# \\ is a special character\n",
    "obj = re.compile(\".\")\n",
    "re.findall(obj,text)"
   ]
  },
  {
   "cell_type": "code",
   "execution_count": 108,
   "metadata": {},
   "outputs": [
    {
     "data": {
      "text/plain": [
       "['a', 'b', 'c', 'd', ' ', 'e', 'f', 'g', ' ', 'h', 'i', ' ', '1', '2']"
      ]
     },
     "execution_count": 108,
     "metadata": {},
     "output_type": "execute_result"
    }
   ],
   "source": [
    "obj = re.compile(\".\")\n",
    "re.findall(obj,text)"
   ]
  },
  {
   "cell_type": "code",
   "execution_count": 135,
   "metadata": {},
   "outputs": [
    {
     "data": {
      "text/plain": [
       "['abc']"
      ]
     },
     "execution_count": 135,
     "metadata": {},
     "output_type": "execute_result"
    }
   ],
   "source": [
    "#### LOGIC ####\n",
    "# $ = matches at the end of string\n",
    "# ^ = matches start of a string\n",
    "# | = matches either/or. Example x|y = will match either x or y\n",
    "# [] = range, or \"variance\"\n",
    "\n",
    "obj = re.compile(\"ab[cd]\")\n",
    "re.findall(obj,text)\n",
    "# ab with c or d"
   ]
  },
  {
   "cell_type": "code",
   "execution_count": 140,
   "metadata": {},
   "outputs": [
    {
     "data": {
      "text/plain": [
       "['abcd']"
      ]
     },
     "execution_count": 140,
     "metadata": {},
     "output_type": "execute_result"
    }
   ],
   "source": [
    "obj = re.compile(\"^abcd\")\n",
    "re.findall(obj,text)"
   ]
  },
  {
   "cell_type": "code",
   "execution_count": 145,
   "metadata": {},
   "outputs": [
    {
     "data": {
      "text/plain": [
       "['i 12']"
      ]
     },
     "execution_count": 145,
     "metadata": {},
     "output_type": "execute_result"
    }
   ],
   "source": [
    "obj = re.compile(\"i 12$\")\n",
    "re.findall(obj,text)"
   ]
  },
  {
   "cell_type": "code",
   "execution_count": 160,
   "metadata": {},
   "outputs": [
    {
     "data": {
      "text/plain": [
       "['a', 'b', 'c', 'd', ' ', 'e', 'f', 'g', ' ', 'h', 'i', ' ', '1', '2', '']"
      ]
     },
     "execution_count": 160,
     "metadata": {},
     "output_type": "execute_result"
    }
   ],
   "source": [
    "obj = re.compile(\"[0-9 A-Z a-z]?\")\n",
    "re.findall(obj,text)"
   ]
  },
  {
   "cell_type": "code",
   "execution_count": 156,
   "metadata": {},
   "outputs": [
    {
     "data": {
      "text/plain": [
       "[' ', 'e', 'f', 'g', ' ', 'h', 'i', ' ', '1', '2']"
      ]
     },
     "execution_count": 156,
     "metadata": {},
     "output_type": "execute_result"
    }
   ],
   "source": [
    "# match anything except abcd\n",
    "obj = re.compile(\"[^abcd]\")\n",
    "re.findall(obj,text)"
   ]
  },
  {
   "cell_type": "code",
   "execution_count": null,
   "metadata": {
    "collapsed": true
   },
   "outputs": [],
   "source": []
  }
 ],
 "metadata": {
  "kernelspec": {
   "display_name": "Python 3",
   "language": "python",
   "name": "python3"
  },
  "language_info": {
   "codemirror_mode": {
    "name": "ipython",
    "version": 3
   },
   "file_extension": ".py",
   "mimetype": "text/x-python",
   "name": "python",
   "nbconvert_exporter": "python",
   "pygments_lexer": "ipython3",
   "version": "3.6.1"
  }
 },
 "nbformat": 4,
 "nbformat_minor": 2
}
