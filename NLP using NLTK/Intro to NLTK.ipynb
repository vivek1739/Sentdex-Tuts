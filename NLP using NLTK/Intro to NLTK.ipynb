{
 "cells": [
  {
   "cell_type": "code",
   "execution_count": 1,
   "metadata": {
    "collapsed": true
   },
   "outputs": [],
   "source": [
    "import nltk\n",
    "# nltk.download(\"all\")"
   ]
  },
  {
   "cell_type": "markdown",
   "metadata": {
    "collapsed": true
   },
   "source": [
    "### 1. Tokenizer\n",
    "- word tokenizer\n",
    "- sentence tokenizer\n",
    "\n",
    "**Lexicon and corporas**\n",
    "    - corpora : body of text . ex\n",
    "        - medical journals, predential speeches, English language\n",
    "    - Lexicon : words and their meanings\n",
    "        - ex. inverstor language 'bull' : someone who is +ve about the market\n",
    "            - english bull : scary animal\n",
    "        - for numbers it is words and their values\n"
   ]
  },
  {
   "cell_type": "code",
   "execution_count": 2,
   "metadata": {},
   "outputs": [
    {
     "name": "stdout",
     "output_type": "stream",
     "text": [
      "['Hello there, how are you doing today?', 'the weather is great and python is awesome.', 'The sky is blue.']\n",
      "----------------------------------------\n",
      "['Hello Mr. Smith, how are you doing today?', 'the weather is great and python is awesome.', 'The sky is blue.']\n"
     ]
    }
   ],
   "source": [
    "from nltk.tokenize import sent_tokenize, word_tokenize\n",
    "\n",
    "# By sentence --------------------------\n",
    "\n",
    "example_text = \"Hello there, how are you doing today? the weather is great and python is awesome. The sky is blue.\"\n",
    "# for split by sentence, we can think that full stop followed by space will do\n",
    "# we cannot split by sentense easily ex. Mr. Smith\n",
    "\n",
    "print(sent_tokenize(example_text))\n",
    "\n",
    "print(\"--\"*20)\n",
    "example_text = \"Hello Mr. Smith, how are you doing today? the weather is great and python is awesome. The sky is blue.\"\n",
    "print(sent_tokenize(example_text))"
   ]
  },
  {
   "cell_type": "code",
   "execution_count": 6,
   "metadata": {},
   "outputs": [
    {
     "name": "stdout",
     "output_type": "stream",
     "text": [
      "['Hello', 'Mr.', 'Smith', ',', 'how', 'are', 'you', 'doing', 'today', '?', 'the', 'weather', 'is', 'great', 'and', 'python', 'is', 'awesome', '.', 'The', 'sky', 'is', 'blue', '.']\n"
     ]
    }
   ],
   "source": [
    "# By word -------------------\n",
    "print(word_tokenize(example_text))\n",
    "# by default puntuation is taken as a word."
   ]
  },
  {
   "cell_type": "code",
   "execution_count": 16,
   "metadata": {},
   "outputs": [
    {
     "name": "stdout",
     "output_type": "stream",
     "text": [
      "Hello\n",
      "Mr.\n",
      "Smith\n",
      ",\n",
      "how\n",
      "are\n",
      "you\n",
      "doing\n",
      "today\n",
      "?\n",
      "the\n",
      "weather\n",
      "is\n",
      "great\n",
      "and\n",
      "python\n",
      "is\n",
      "awesome\n",
      ".\n",
      "The\n",
      "sky\n",
      "is\n",
      "blue\n",
      ".\n"
     ]
    }
   ],
   "source": [
    "for i in word_tokenize(example_text):\n",
    "    print(i)"
   ]
  },
  {
   "cell_type": "markdown",
   "metadata": {},
   "source": [
    "- there are advanced tokenizers where we can use unsupervised machine learning built in nltk.\n",
    "- nltk by default works with english, but also works with other languages.\n",
    "\n",
    "### 2. Stop words\n",
    "a. words that do not add much meaning\n",
    "b. whose meaning is ambigous"
   ]
  },
  {
   "cell_type": "code",
   "execution_count": 20,
   "metadata": {},
   "outputs": [
    {
     "name": "stdout",
     "output_type": "stream",
     "text": [
      "{'our', 'at', \"it's\", 'any', 'into', 'why', 'same', \"wasn't\", \"she's\", 'was', 'couldn', 'if', 'ours', 'by', 'having', 'does', 't', \"isn't\", 'ma', 'off', 'once', \"don't\", 'needn', 'be', 'do', 'under', 'about', 'herself', 'who', 'whom', 'itself', 'it', 'most', 'not', 'and', \"didn't\", 'have', 'which', 'an', 'we', 'that', 'am', 'for', 'nor', 'what', 'll', 'didn', 'because', 'these', 'did', 'from', 'all', 'himself', 'while', 'weren', 'had', 'the', 'his', 'myself', 'doing', 'some', 's', 'has', 'to', \"couldn't\", 'against', \"hasn't\", 'wouldn', 'been', 'down', 'where', \"should've\", 'as', \"mustn't\", 'o', 'they', \"haven't\", 'hadn', 'hers', 'isn', 'him', 're', 'mustn', 'i', 'there', 'few', 'but', \"that'll\", 'again', 'when', 'don', \"needn't\", \"you're\", \"you've\", 'me', 'only', 'themselves', 'she', 'over', 'such', 'through', 'during', 'out', 'yours', 'were', 'yourself', 'just', \"mightn't\", 'this', 'so', 'on', 'is', \"weren't\", 'up', 'm', 'theirs', \"wouldn't\", 'wasn', 'a', 'doesn', 'being', 'very', 'are', 'won', 'ain', 'ourselves', 'can', 'in', 'further', 'he', 'hasn', \"won't\", 'before', 've', \"you'll\", 'y', 'd', 'than', 'their', \"you'd\", 'should', 'between', \"shan't\", 'them', 'own', \"shouldn't\", 'your', 'how', 'below', \"doesn't\", 'each', 'shouldn', 'my', 'now', 'too', \"hadn't\", \"aren't\", 'then', 'haven', 'here', 'shan', 'above', 'until', 'those', 'or', 'with', 'aren', 'its', 'other', 'her', 'both', 'no', 'more', 'of', 'mightn', 'you', 'yourselves', 'will', 'after'}\n"
     ]
    }
   ],
   "source": [
    "from nltk.corpus import stopwords\n",
    "\n",
    "example_sent = \"This is an example showing off stop word filtration.\"\n",
    "stop_words = set(stopwords.words(\"english\"))\n",
    "print(stop_words)"
   ]
  },
  {
   "cell_type": "code",
   "execution_count": 25,
   "metadata": {
    "collapsed": true
   },
   "outputs": [],
   "source": [
    "words = word_tokenize(example_sent)\n",
    "filtered_sent = [w.lower() for w in words if w.lower() not in stop_words]"
   ]
  },
  {
   "cell_type": "code",
   "execution_count": 26,
   "metadata": {},
   "outputs": [
    {
     "data": {
      "text/plain": [
       "['example', 'showing', 'stop', 'word', 'filtration', '.']"
      ]
     },
     "execution_count": 26,
     "metadata": {},
     "output_type": "execute_result"
    }
   ],
   "source": [
    "filtered_sent"
   ]
  },
  {
   "cell_type": "markdown",
   "metadata": {},
   "source": [
    "### 3. Stemming\n",
    "- we stem a word \n",
    "    - ex. riding becomes rid\n",
    "    - ie. we have different variations of a word but meaning of word is unchanged\n",
    "    - ex. I was taking a ride in the car\n",
    "        - I was riding a car.\n",
    "\n",
    "Porter Stemmer :\n",
    "- since 1979\n",
    "- there are many stemmers, Porter stemmer is gud"
   ]
  },
  {
   "cell_type": "code",
   "execution_count": 28,
   "metadata": {},
   "outputs": [
    {
     "name": "stdout",
     "output_type": "stream",
     "text": [
      "python\n",
      "python\n",
      "python\n",
      "python\n",
      "pythonli\n"
     ]
    }
   ],
   "source": [
    "from nltk.stem import PorterStemmer\n",
    "ps = PorterStemmer()\n",
    "\n",
    "example_words = [\"python\",\"pythoner\",\"pythoning\",\"pythoned\",\"pythonly\"]\n",
    "\n",
    "for w in example_words:\n",
    "    print(ps.stem(w))"
   ]
  },
  {
   "cell_type": "markdown",
   "metadata": {},
   "source": [
    "- except last one all of the words in stemmed"
   ]
  },
  {
   "cell_type": "code",
   "execution_count": 31,
   "metadata": {},
   "outputs": [
    {
     "name": "stdout",
     "output_type": "stream",
     "text": [
      "It\n",
      "is\n",
      "veri\n",
      "import\n",
      "to\n",
      "be\n",
      "pythonli\n",
      "while\n",
      "you\n",
      "are\n",
      "python\n",
      "with\n",
      "pyhton\n",
      ".\n",
      "all\n",
      "python\n",
      "have\n",
      "python\n",
      "onc\n",
      ".\n"
     ]
    }
   ],
   "source": [
    "new_text = \"It is very important to be pythonly while you are pythoning with pyhton. All pythoners have pythoned once.\"\n",
    "\n",
    "words = word_tokenize(new_text)\n",
    "for w in words:\n",
    "    print(ps.stem(w))"
   ]
  },
  {
   "cell_type": "markdown",
   "metadata": {},
   "source": [
    "- Now a days, people prefer wordnet \n",
    "- Wordnet will find the synonym using synset."
   ]
  },
  {
   "cell_type": "markdown",
   "metadata": {},
   "source": [
    "### 4. Part of Speech Tagging\n",
    "- labelling part of speech to each word"
   ]
  },
  {
   "cell_type": "code",
   "execution_count": 37,
   "metadata": {},
   "outputs": [
    {
     "name": "stdout",
     "output_type": "stream",
     "text": [
      "['PRESIDENT', 'GEORGE', 'W.', 'BUSH', \"'S\", 'ADDRESS', 'BEFORE', 'A', 'JOINT', 'SESSION', 'OF', 'THE', 'CONGRESS', 'ON', 'THE', 'STATE', 'OF', 'THE', 'UNION', 'January', '31', ',', '2006', 'THE', 'PRESIDENT', ':', 'Thank', 'you', 'all', '.']\n",
      "----------------------------------------\n",
      "[('PRESIDENT', 'NNP'), ('GEORGE', 'NNP'), ('W.', 'NNP'), ('BUSH', 'NNP'), (\"'S\", 'POS'), ('ADDRESS', 'NNP'), ('BEFORE', 'IN'), ('A', 'NNP'), ('JOINT', 'NNP'), ('SESSION', 'NNP'), ('OF', 'IN'), ('THE', 'NNP'), ('CONGRESS', 'NNP'), ('ON', 'NNP'), ('THE', 'NNP'), ('STATE', 'NNP'), ('OF', 'IN'), ('THE', 'NNP'), ('UNION', 'NNP'), ('January', 'NNP'), ('31', 'CD'), (',', ','), ('2006', 'CD'), ('THE', 'NNP'), ('PRESIDENT', 'NNP'), (':', ':'), ('Thank', 'NNP'), ('you', 'PRP'), ('all', 'DT'), ('.', '.')]\n"
     ]
    }
   ],
   "source": [
    "import nltk\n",
    "from nltk.corpus import state_union\n",
    "from nltk.tokenize import PunktSentenceTokenizer\n",
    "# punktSentenceTokenizer is an unsupervise ML tokenizer\n",
    "# it comes pretrained but we can also retrain\n",
    "\n",
    "train_text = state_union.raw(\"2005-GWBush.txt\")\n",
    "sample_text = state_union.raw(\"2006-GWBush.txt\")\n",
    "\n",
    "# here we are training on train_text\n",
    "custom_sent_tokenizer = PunktSentenceTokenizer(train_text)\n",
    "\n",
    "tokenized = custom_sent_tokenizer.tokenize(sample_text)\n",
    "\n",
    "def process_content():\n",
    "    try:\n",
    "        for sent in tokenized:\n",
    "            words = nltk.word_tokenize(sent)\n",
    "            print(words)\n",
    "            print(\"-\"*40)\n",
    "            tagged = nltk.pos_tag(words)\n",
    "            print(tagged)\n",
    "            break;\n",
    "    \n",
    "    except Exception as e:\n",
    "        print(str(e))\n",
    "\n",
    "process_content()"
   ]
  },
  {
   "cell_type": "markdown",
   "metadata": {},
   "source": [
    "- NNP:  Proper noun, singular\n",
    "- PRP : Personal pronoun\n",
    "\n",
    "- pos tagging will create part of speech tagging of words\n",
    "\n",
    "### 5. Chunking\n",
    "- we did part of speech tags, we can have many nouns in a sentence and we need to find what applies to which noun.\n",
    "- Noun-phrases : noun with a bunch of modifiers around. ( kind of descriptive group of words surrounding noun) \n",
    "    - with regex \n",
    "    \n",
    "- we use part of speech tags and regex to do chunking."
   ]
  },
  {
   "cell_type": "code",
   "execution_count": null,
   "metadata": {
    "collapsed": true
   },
   "outputs": [],
   "source": []
  }
 ],
 "metadata": {
  "kernelspec": {
   "display_name": "Python 3",
   "language": "python",
   "name": "python3"
  },
  "language_info": {
   "codemirror_mode": {
    "name": "ipython",
    "version": 3
   },
   "file_extension": ".py",
   "mimetype": "text/x-python",
   "name": "python",
   "nbconvert_exporter": "python",
   "pygments_lexer": "ipython3",
   "version": "3.6.1"
  }
 },
 "nbformat": 4,
 "nbformat_minor": 2
}
