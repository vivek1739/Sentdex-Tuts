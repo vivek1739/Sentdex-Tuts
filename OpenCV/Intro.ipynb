{
 "cells": [
  {
   "cell_type": "code",
   "execution_count": 10,
   "metadata": {},
   "outputs": [],
   "source": [
    "import matplotlib.pyplot as plt\n",
    "import numpy as np\n",
    "import cv2\n",
    "\n",
    "%matplotlib inline"
   ]
  },
  {
   "cell_type": "markdown",
   "metadata": {},
   "source": [
    "- video is measured in frames per second and each frame is an image\n",
    "\n",
    "NOTE: if we do not mention anything, it will read a color image but remove 'alpha' ie. transparency\n",
    "    - to make it easier we will change to grayscale\n",
    "    \n",
    "#NOTE: openCV does BGR , matplotlib does RGB\n",
    "\n",
    "#Interpolation\n",
    "    - if we scale an image to a higher resolution\n",
    "        - we will get black pixels in between\n",
    "1. Nearest Neighbors\n",
    "    - whatever pixel is near take that value\n",
    "2. bilinear : \n",
    "    - we will take a weighter sum between two pixels\n",
    "    - ex. 100 200 -> 100 - - 200\n",
    "        - ie. two pixels to 4 pixels\n",
    "        - So the intermediate pixels will be\n",
    "            - 200-100/3 ahead and (200-100)/3 ahead\n",
    "            - ie. 100 133.33 166.66 200\n",
    "    - Similar concept for 2-d data\n",
    "3. bicubic : similar to linear but smooth\n",
    "    - here we are fittign a 3rd degree polynomial equation\n",
    "        - we will look at slope at point 1 and slope at point 2\n",
    "        - then instead of linear points we can have some curve\n",
    "        - so it can do complex shapes than what linear interpolation can do\n",
    "    "
   ]
  },
  {
   "cell_type": "code",
   "execution_count": 7,
   "metadata": {},
   "outputs": [
    {
     "name": "stdout",
     "output_type": "stream",
     "text": [
      "False\n"
     ]
    }
   ],
   "source": [
    "# IMREAD_COLOR = 1\n",
    "# IMREAD_UNCHANGED = -1\n",
    "\n",
    "img = cv2.imread('watch.jpeg',cv2.IMREAD_GRAYSCALE)\n",
    "\n",
    "#plt.imshow(img, cmap='gray', interpolation='bicubic')\n",
    "# plotting a line over the image\n",
    "# plt.plot([50,100],[80,100],'c',linewidth=5)\n",
    "# plt.show()\n",
    "\n",
    "cv2.imshow('img',img)\n",
    "t = cv2.waitKey(2500)\n",
    "# unicode value of a character. ord() will give character to key\n",
    "print(t == ord('q')) # this will be true if q is pressed\n",
    "cv2.destroyAllWindows()"
   ]
  },
  {
   "cell_type": "code",
   "execution_count": 22,
   "metadata": {},
   "outputs": [
    {
     "data": {
      "text/plain": [
       "True"
      ]
     },
     "execution_count": 22,
     "metadata": {},
     "output_type": "execute_result"
    }
   ],
   "source": [
    "# save an image\n",
    "cv2.imwrite(\"watchgray.png\",img)"
   ]
  },
  {
   "cell_type": "code",
   "execution_count": 12,
   "metadata": {},
   "outputs": [],
   "source": [
    "# 0 means 0th webcam in system\n",
    "import cv2\n",
    "\n",
    "cap = cv2.VideoCapture(0)\n",
    "#fourcc = cv2.VideoWriter_fourcc(*'XVID')\n",
    "\n",
    "#out = cv2.VideoWriter('output.avi',fourcc, 20.0, (640,480))\n",
    "\n",
    "# ret will be true or false\n",
    "# frame is frame\n",
    "\n",
    "while True:\n",
    "    ret, frame = cap.read()\n",
    "    gray = cv2.cvtColor(frame, cv2.COLOR_BGR2GRAY)\n",
    "    #out.write(frame)\n",
    "\n",
    "    cv2.imshow('frame',frame)\n",
    "    cv2.imshow('gray',gray)\n",
    "\n",
    "    if cv2.waitKey(25) & 0xff == ord('q'):\n",
    "        break\n",
    "        \n",
    "cap.release()\n",
    "#out.release()\n",
    "cv2.destroyAllWindows()"
   ]
  },
  {
   "cell_type": "markdown",
   "metadata": {},
   "source": [
    "** Load a custom Video file **"
   ]
  },
  {
   "cell_type": "code",
   "execution_count": 2,
   "metadata": {},
   "outputs": [],
   "source": [
    "import cv2\n",
    "\n",
    "cap = cv2.VideoCapture(\"traffic.avi\")\n",
    "#out = cv2.VideoWriter('output.avi',cv2.VideoWriter_fourcc('M','J','P','G'), 10, (640,480))\n",
    "#fourcc = cv2.VideoWriter_fourcc(*'DIVX')\n",
    "#out = cv2.VideoWriter('output.avi',fourcc, 20.0, (640,480))\n",
    "while(True):\n",
    "    ret, frame = cap.read()\n",
    "    if ret == True:\n",
    "        frame = cv2.resize(frame,(640,360))\n",
    "        frame = cv2.cvtColor(frame, cv2.COLOR_BGR2GRAY)\n",
    "\n",
    "        #out.write(frame)\n",
    "        cv2.imshow('frame',frame)\n",
    "\n",
    "        if cv2.waitKey(1) & 0xff == ord('q'):\n",
    "            break\n",
    "    else:\n",
    "        break\n",
    "        \n",
    "cap.release()\n",
    "#out.release()\n",
    "cv2.destroyAllWindows()"
   ]
  },
  {
   "cell_type": "markdown",
   "metadata": {},
   "source": [
    "### 3: Draw on images\n",
    "- using open cv to draw, ex. drawing rectange around face,\n",
    "    - generally people will use open cv and not matplotlib\n",
    "    "
   ]
  },
  {
   "cell_type": "code",
   "execution_count": 42,
   "metadata": {},
   "outputs": [],
   "source": [
    "import numpy as np\n",
    "import cv2\n",
    "\n",
    "img = cv2.imread('watch.jpeg',cv2.IMREAD_COLOR)\n",
    "\n",
    "# last will be bgr\n",
    "# for white it will be 255,255,255\n",
    "# for blue : 255,0,0\n",
    "# cv2.line(image , startpt, endpoint, color(bgr), width)\n",
    "img = cv2.resize(img, (250,300))\n",
    "cv2.line(img, (0,0),(150,150), (255,255,255), 15)\n",
    "cv2.rectangle(img, (15,25),(200,150), (0,255,0),5)\n",
    "\n",
    "# we give centre of circle, radius, color,\n",
    "    # -1 will fill the cirlce\n",
    "cv2.circle(img, (100,163), 40, (0,0,255), -1)\n",
    "\n",
    "pts  = np.array([[10,5],[20,30],[70,20],[50,10]], np.int32)\n",
    "#pts = pts.reshape((-1,1,2))\n",
    "\n",
    "# True for connecting the final point to the first point\n",
    "cv2.polylines(img, [pts], True, (0,255,255),3)\n",
    "\n",
    "\n",
    "#----------------------\n",
    "font = cv2.FONT_HERSHEY_SIMPLEX\n",
    "\n",
    "# img, text ,origin, fontFace, fontSize, color, thicknessInLetters, linetype\n",
    "    # lineType : 8 (8 connected), 4 ( 4 connected), AA antialiased line        \n",
    "cv2.putText(img, 'OpenCV Tuts', (0,130),font,2 ,(200,255,255),2,cv2.LINE_AA)\n",
    "cv2.imshow('image',img)\n",
    "cv2.waitKey(2000)\n",
    "cv2.destroyAllWindows()"
   ]
  },
  {
   "cell_type": "markdown",
   "metadata": {},
   "source": [
    "### 4 : Image operations\n"
   ]
  },
  {
   "cell_type": "code",
   "execution_count": 52,
   "metadata": {},
   "outputs": [
    {
     "name": "stdout",
     "output_type": "stream",
     "text": [
      "[255 255 255]\n"
     ]
    }
   ],
   "source": [
    "img = cv2.imread('watch.jpeg', cv2.IMREAD_COLOR)\n",
    "px = img[55,55]\n",
    "print(px)\n",
    "img = cv2.resize(img, (250,300))\n",
    "\n",
    "\n",
    "# ROI : region of image\n",
    "img[100:150,100:150] = [255,255,255]\n",
    "\n",
    "watch_face = img[37:111, 107:194]\n",
    "img[0:74, 0:87] = watch_face\n",
    "\n",
    "cv2.imshow('image',img)\n",
    "cv2.waitKey(2000)\n",
    "cv2.destroyAllWindows()"
   ]
  },
  {
   "cell_type": "markdown",
   "metadata": {},
   "source": [
    "### 5. Image arithmetics and Logical Operations"
   ]
  },
  {
   "cell_type": "code",
   "execution_count": 56,
   "metadata": {},
   "outputs": [],
   "source": [
    "import cv2\n",
    "import numpy as np\n",
    "\n",
    "img1 = cv2.imread(\"3D-Matplotlib.png\")\n",
    "img2 = cv2.imread('mainsvm.png')\n",
    "\n",
    "add = img1 + img2\n",
    "\n",
    "cv2.imshow('add',add)\n",
    "cv2.waitKey(2000)\n",
    "cv2.destroyAllWindows()"
   ]
  },
  {
   "cell_type": "code",
   "execution_count": 57,
   "metadata": {},
   "outputs": [],
   "source": [
    "# using open cv add method ---------------------\n",
    "add = cv2.add(img1,img2)\n",
    "\n",
    "# here we will have white portions as it will add the two images\n",
    "# (155,211,79) + (50, 170, 200) = 205, 381, 279...\n",
    "    # translated to (205, 255,255).\n",
    "cv2.imshow('add',add)\n",
    "cv2.waitKey(2000)\n",
    "cv2.destroyAllWindows()"
   ]
  },
  {
   "cell_type": "code",
   "execution_count": 58,
   "metadata": {},
   "outputs": [],
   "source": [
    "# another way\n",
    "\n",
    "# here weight of img1 is 0.6, weight of img2 is 0.4\n",
    "    # gamma we have kept at 0\n",
    "weighted = cv2.addWeighted(img1,0.6, img2,0.4, 0)\n",
    "cv2.imshow('weighted',weighted)\n",
    "cv2.waitKey(2000)\n",
    "cv2.destroyAllWindows()\n",
    "\n",
    "############\n",
    "# result: in this approach we have both the images, and \n",
    "    # we have not lost values of one image"
   ]
  },
  {
   "cell_type": "markdown",
   "metadata": {},
   "source": [
    "** logical operations **"
   ]
  },
  {
   "cell_type": "code",
   "execution_count": 15,
   "metadata": {},
   "outputs": [],
   "source": [
    "import cv2\n",
    "img1 = cv2.imread(\"3D-Matplotlib.png\")\n",
    "img2 = cv2.imread('mainlogo.png')\n",
    "\n",
    "\"\"\" Objective : To get the logo in top left of the image \"\"\" \n",
    "\n",
    "## get shape of logo\n",
    "rows, cols, channels = img2.shape\n",
    "\n",
    "## get same size of top left part in matplot img, similar to logo size\n",
    "roi = img1[0:rows, 0:cols]\n",
    "\n",
    "## convert logo to gray\n",
    "img2gray = cv2.cvtColor(img2, cv2.COLOR_BGR2GRAY)\n",
    "\n",
    "## get a mask form of logo, ie. black n white\n",
    "# 220 is threshold value, if pixel is above 220 it will be converted to 255\n",
    "    # if below 220, converted to 0\n",
    "    # Thresh_binary_inv is opp to the given logic\n",
    "ret,mask = cv2.threshold(img2gray, 220, 255, cv2.THRESH_BINARY_INV)\n",
    "mask_inv = cv2.bitwise_not(mask)\n",
    "\n",
    "\"\"\" roi is the top left part, apply the mask \"\"\"\n",
    "\n",
    "## apply mask_inv to roi ie. add black logo patch to roi \n",
    "# bitwise_and : src1,src2, mask\n",
    "# black out the area of logo in ROI\n",
    "img1_bg = cv2.bitwise_and(roi,roi, mask=mask_inv)\n",
    "\n",
    "## add mask to logo image to get the logo and remove else\n",
    "img2_fg = cv2.bitwise_and(img2,img2, mask=mask)\n",
    "\n",
    "\"\"\" img2_fg is only logo, add this to patched roi image \n",
    "    - where ever there is patch in roi, it will add with logo \n",
    "        and we will get only logo\"\"\"\n",
    "\n",
    "dst = cv2.add(img1_bg,img2_fg)\n",
    "img1[0:rows, 0:cols ] = dst\n",
    "\n",
    "# cv2.imshow('roi',roi)\n",
    "# cv2.imshow('img2gray',img2gray)\n",
    "# cv2.imshow('mask',mask)\n",
    "# cv2.imshow('mask_inv',mask_inv)\n",
    "# cv2.imshow('img1_bg',img1_bg)\n",
    "# cv2.imshow('img2_fg',img2_fg)\n",
    "# cv2.imshow('dst',dst)\n",
    "# cv2.imshow('res',img1)\n",
    "\n",
    "\n",
    "\n",
    "\n",
    "cv2.waitKey(0)\n",
    "cv2.destroyAllWindows()"
   ]
  },
  {
   "cell_type": "code",
   "execution_count": null,
   "metadata": {},
   "outputs": [],
   "source": []
  }
 ],
 "metadata": {
  "kernelspec": {
   "display_name": "Python 3",
   "language": "python",
   "name": "python3"
  },
  "language_info": {
   "codemirror_mode": {
    "name": "ipython",
    "version": 3
   },
   "file_extension": ".py",
   "mimetype": "text/x-python",
   "name": "python",
   "nbconvert_exporter": "python",
   "pygments_lexer": "ipython3",
   "version": "3.6.5"
  }
 },
 "nbformat": 4,
 "nbformat_minor": 2
}
