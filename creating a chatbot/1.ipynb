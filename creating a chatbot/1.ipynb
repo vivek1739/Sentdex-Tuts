{
 "cells": [
  {
   "cell_type": "code",
   "execution_count": 28,
   "metadata": {
    "collapsed": true
   },
   "outputs": [],
   "source": [
    "import sqlite3\n",
    "import json\n",
    "from datetime import datetime\n",
    "\n",
    "timeframe = '2018-02'\n",
    "sql_transaction = []\n",
    "\n",
    "connection = sqlite3.connect('{}.db'.format(timeframe))\n",
    "c = connection.cursor()\n"
   ]
  },
  {
   "cell_type": "code",
   "execution_count": 25,
   "metadata": {
    "collapsed": true
   },
   "outputs": [],
   "source": [
    "c.close()"
   ]
  },
  {
   "cell_type": "code",
   "execution_count": 27,
   "metadata": {
    "collapsed": true
   },
   "outputs": [],
   "source": [
    "connection.close()"
   ]
  },
  {
   "cell_type": "code",
   "execution_count": null,
   "metadata": {
    "collapsed": true
   },
   "outputs": [],
   "source": []
  },
  {
   "cell_type": "code",
   "execution_count": 35,
   "metadata": {
    "collapsed": true
   },
   "outputs": [],
   "source": [
    "def create_table():\n",
    "    c.execute(\"\"\"CREATE TABLE IF NOT EXISTS parent_reply(\n",
    "    parent_id TEXT PRIMARY KEY,\n",
    "    comment_id TEXT UNIQUE,\n",
    "    parent TEXT,\n",
    "    comment TEXT,\n",
    "    subreddit TEXT,\n",
    "    unix INT,\n",
    "    score INT)\"\"\")\n",
    "    \n",
    "\n",
    "def format_data(data):\n",
    "    data = data.replace(\"\\n\",\" newlinechar \").replace(\"\\r\",\" newlinechar \").replace('\"',\"'\")\n",
    "    return data    \n",
    "\n",
    "def find_parent(pid):\n",
    "    \"\"\"\n",
    "    - get body of the parent comment\n",
    "    \"\"\"\n",
    "    try:\n",
    "        sql = \"SELECT comment FROM parent_reply WHERE comment_id = '{}' LIMIT 1\".format(pid);\n",
    "        c.execute(sql)\n",
    "        result = c.fetchone()\n",
    "        if result!= None:\n",
    "            return result[0]\n",
    "        else: return False\n",
    "    except Exception as e:\n",
    "        #print(\"\")\n",
    "        return False\n",
    "    \n",
    "def find_existing_score(pid):\n",
    "    \"\"\"\n",
    "    - find the score of the comment which has same parent_id\n",
    "    \"\"\"\n",
    "    try:\n",
    "        sql = \"SELECT score FROM parent_reply WHERE parent_id = '{}' LIMIT 1\".format(pid);\n",
    "        c.execute(sql)\n",
    "        result = c.fetchone()\n",
    "        if result!= None:\n",
    "            return result[0]\n",
    "        else: return False\n",
    "    except Exception as e:\n",
    "        #print(\"\")\n",
    "        return False"
   ]
  },
  {
   "cell_type": "code",
   "execution_count": 36,
   "metadata": {},
   "outputs": [
    {
     "ename": "SyntaxError",
     "evalue": "invalid syntax (<ipython-input-36-d5911ff5ca6f>, line 6)",
     "output_type": "error",
     "traceback": [
      "\u001b[1;36m  File \u001b[1;32m\"<ipython-input-36-d5911ff5ca6f>\"\u001b[1;36m, line \u001b[1;32m6\u001b[0m\n\u001b[1;33m    elif data = '[deleted]' or data= '[removed]':\u001b[0m\n\u001b[1;37m              ^\u001b[0m\n\u001b[1;31mSyntaxError\u001b[0m\u001b[1;31m:\u001b[0m invalid syntax\n"
     ]
    }
   ],
   "source": [
    "def acceptable(data):\n",
    "    if len(data.split(' ')) > 50 or len(data) <1:\n",
    "        return False\n",
    "    elif len(data) > 1000:\n",
    "        return False\n",
    "    elif data = '[deleted]' or data= '[removed]':\n",
    "        return False\n",
    "    else:\n",
    "        return True\n",
    "\n",
    "def sql_insert_replace_comment(commentid, parentid, parent, comment, subreddit, time,score):\n",
    "    \"\"\" parent : body of the parent comment\n",
    "        comment : body of current comment\n",
    "        - replace the current child comment with current comment based on parent_id\n",
    "    \"\"\"\n",
    "    try:\n",
    "        sql = \"\"\" UPDATE parent_reply SET parent_id = ?,comment_id = ?,parent=?, comment= ?, subreddit = ?, unix = ?, score = ? WHERE parent_id = ? ;  \"\"\".format(parentid, commentid, parent, comment, subreddit, int(time), score, parentid)    \n",
    "        transaction_bldr(sql):\n",
    "    except Exception as e:\n",
    "        print('s0 insertion',str(e))\n",
    "        \n",
    "def sql_insert_has_parent(commentid,parentid,parent,comment,subreddit,time,score):\n",
    "    \"\"\" parent : body of the parent\n",
    "        comment : body of the current comment'\n",
    "        - insert the child comment of any parent\n",
    "    \"\"\"\n",
    "    try:\n",
    "        sql = \"\"\"INSERT INTO parent_reply (parent_id, comment_id, parent, comment, subreddit, unix, score) VALUES (\"{}\",\"{}\",\"{}\",\"{}\",\"{}\",{},{});\"\"\".format(parentid, commentid, parent, comment, subreddit, int(time), score)\n",
    "        transaction_bldr(sql)\n",
    "    except Exception as e:\n",
    "        print('s0 insertion',str(e))\n",
    "\n",
    "\n",
    "def sql_insert_no_parent(commentid,parentid,comment,subreddit,time,score):\n",
    "    \"\"\" comment: body\n",
    "        time : create_utc\n",
    "        - insert the data as no parent is there\n",
    "    \"\"\"\n",
    "    try:\n",
    "        sql = \"\"\"INSERT INTO parent_reply (parent_id, comment_id, comment, subreddit, unix, score) VALUES (\"{}\",\"{}\",\"{}\",\"{}\",{},{});\"\"\".format(parentid, commentid, comment, subreddit, int(time), score)\n",
    "        transaction_bldr(sql)\n",
    "    except Exception as e:\n",
    "        print('s0 insertion',str(e))\n",
    "        \n",
    "def transaction_bldr(sql):\n",
    "    global sql_transaction\n",
    "    sql_transaction.append(sql)\n",
    "    if len(sql_transaction) > 1000:\n",
    "        c.execute('BEGIN TRANSACTION')\n",
    "        for s in sql "
   ]
  },
  {
   "cell_type": "code",
   "execution_count": null,
   "metadata": {},
   "outputs": [],
   "source": []
  },
  {
   "cell_type": "code",
   "execution_count": null,
   "metadata": {
    "collapsed": true
   },
   "outputs": [],
   "source": []
  },
  {
   "cell_type": "code",
   "execution_count": 37,
   "metadata": {},
   "outputs": [
    {
     "name": "stdout",
     "output_type": "stream",
     "text": [
      "False\n"
     ]
    }
   ],
   "source": [
    "import json\n",
    "\n",
    "create_table()\n",
    "\n",
    "with open(\"./data/RC_2018-02-26\",buffering=10) as f:\n",
    "    for row in f:\n",
    "        row = json.loads(row)\n",
    "        parent_id = row['parent_id']\n",
    "        body = format_data(row['body'])\n",
    "        created_utc = row['created_utc']\n",
    "        score = row['score']\n",
    "        comment_id = row['link_id']\n",
    "        subreddit = row['subreddit']       \n",
    "        parent_data = find_parent(parent_id)\n",
    "        print(parent_data)\n",
    "        if score >=2:\n",
    "            # if comment score > 2 then only we will consider the comment\n",
    "            existing_comment_score = find_existing_score(parent_id)\n",
    "            if existing_comment_score:\n",
    "                if score > existing_comment_score:\n",
    "                    if acceptable(body):\n",
    "                        sql_insert_replace_comment(comment_id,parent_id,parent_data,body,subreddit,created_utc,score)\n",
    "                            \n",
    "            else:\n",
    "                if acceptable(body):\n",
    "                    if parent_data:\n",
    "                        sql_insert_has_parent(comment_id,parent_id,parent_data,body,subreddit,created_utc,score)\n",
    "                    else:\n",
    "                        sql_insert_no_parent(comment_id,parent_id,body,subreddit,created_utc,score)\n",
    "                                             \n",
    "        break"
   ]
  },
  {
   "cell_type": "code",
   "execution_count": null,
   "metadata": {
    "collapsed": true
   },
   "outputs": [],
   "source": []
  }
 ],
 "metadata": {
  "kernelspec": {
   "display_name": "Python 3",
   "language": "python",
   "name": "python3"
  },
  "language_info": {
   "codemirror_mode": {
    "name": "ipython",
    "version": 3
   },
   "file_extension": ".py",
   "mimetype": "text/x-python",
   "name": "python",
   "nbconvert_exporter": "python",
   "pygments_lexer": "ipython3",
   "version": "3.6.1"
  }
 },
 "nbformat": 4,
 "nbformat_minor": 2
}
